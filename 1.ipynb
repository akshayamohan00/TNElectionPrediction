{
 "cells": [
  {
   "cell_type": "code",
   "execution_count": 1,
   "source": [
    "import pandas as pd\n",
    "import numpy as np\n",
    "import altair as alt"
   ],
   "outputs": [],
   "metadata": {}
  },
  {
   "cell_type": "markdown",
   "source": [
    "# Data Processing"
   ],
   "metadata": {}
  },
  {
   "cell_type": "markdown",
   "source": [
    "## 2011 Data"
   ],
   "metadata": {}
  },
  {
   "cell_type": "code",
   "execution_count": 2,
   "source": [
    "df11 = pd.read_csv('data/2011f.csv')\n",
    "df11.drop(df11.columns[[4, 11, 12]], axis=1, inplace=True)\n",
    "df11.replace(['N/A', 'NA', 'na', 'n/a'], np.nan, inplace=True)\n"
   ],
   "outputs": [],
   "metadata": {}
  },
  {
   "cell_type": "code",
   "execution_count": 3,
   "source": [
    "df11.replace(['Puratchi bharatham', 'pb'], 'PB', inplace=True)\n",
    "df11.replace('Indhiya kudiyarasu katchi', 'INKK', inplace=True)\n",
    "df11.replace('Society unity centre of India(communist)', 'SUCI', inplace=True)\n",
    "df11.replace('Manidha neya makkal katchi', 'MAMAK', inplace=True)\n",
    "df11.replace('TAMIL MANILA SIVA SENA', 'TMSS', inplace=True)\n",
    "df11.replace('Ambetkar makkal iyakkam', 'APM', inplace=True)\n",
    "df11.replace('RPI(a)', 'RPI', inplace=True)\n",
    "df11.replace('RPI(A)', 'RPI', inplace=True)\n"
   ],
   "outputs": [],
   "metadata": {}
  },
  {
   "cell_type": "code",
   "execution_count": 4,
   "source": [
    "temp = df11['Education'][::]\n",
    "\n",
    "#School\n",
    "school = [i for i in temp if 'std' in i]\n",
    "school = set(school)\n",
    "school = list(school)\n",
    "school.extend(['SSLC', 'PUC'])\n",
    "temp.replace(school, 'School', inplace=True)\n",
    "\n",
    "#PHD\n",
    "phd = [i for i in temp if ('phd' in i.lower() or 'ph.d' in i.lower())]\n",
    "temp.replace(phd, 'PHD', inplace=True)\n",
    "# temp.value_counts()\n",
    "\n",
    "#PG\n",
    "pg = [i for i in temp if 'mba' in i.lower() or 'iim' in i.lower()]\n",
    "temp.replace(pg, 'PG', inplace=True)\n",
    "\n",
    "#UG\n",
    "ug = [i for i in temp if i[0] == 'B']\n",
    "ug = set(ug)\n",
    "ug = list(ug)\n",
    "ug.extend(['MBBS', 'LLB', 'FCS, AICWA', 'CPLC'])\n",
    "temp.replace(ug, 'UG', inplace=True)\n",
    "# temp.value_counts()\n",
    "\n",
    "#PG\n",
    "pg = [i for i in temp if i[0] == 'M']\n",
    "pg = set(pg)\n",
    "pg = list(pg)\n",
    "temp.replace(pg, 'PG', inplace=True)\n",
    "# temp.value_counts()\n",
    "\n",
    "#Diploma\n",
    "dip = [i for i in temp if i.lower()[0] == 'd']\n",
    "dip = set(dip)\n",
    "dip = list(dip)\n",
    "dip.extend(['Polytechnic', 'ITI'])\n",
    "temp.replace(dip, 'Diploma', inplace=True)\n",
    "# temp.value_counts()\n",
    "\n",
    "temp.replace('No', 'None', inplace=True)\n",
    "#temp.value_counts()\n",
    "\n",
    "df11['Literate Status'] = temp\n",
    "#df11['Literate Status'].value_counts()\n",
    "\n",
    "df11['Case status'].replace('No', 0, inplace=True)\n",
    "df11['Case status'].mask(df11['Case status'] != 0, 1, inplace=True)\n",
    "# df11['Case status'].value_counts()\n",
    "\n",
    "df11.rename(columns={'D.O.B/Age': 'Age', 'Consituency': 'Constituency', 'Case status': 'Case_Status',\n",
    "                     'Asset Declared': 'Total_Assets', 'Party Id': 'Party', 'Literate Status': 'Edu_Level'}, inplace=True)\n",
    "df11.drop(['Education', 'Movable Assets',\n",
    "           'Immovable Assets'], axis=1, inplace=True)\n",
    "\n",
    "cols = df11.columns.tolist()\n",
    "cols = cols[:3]+cols[-1:]+cols[3:8]\n",
    "df11 = df11[cols]\n"
   ],
   "outputs": [],
   "metadata": {}
  },
  {
   "cell_type": "code",
   "execution_count": 5,
   "source": [
    "df11['Age'].fillna((df11['Age'].mean()), inplace=True)\n",
    "df11['Age'] = df11['Age'].astype('int')\n",
    "\n",
    "df11['Case_Status'] = df11['Case_Status'].astype('int')\n",
    "for i in ['Name', 'Gender', 'Edu_Level', 'Constituency', 'Party']:\n",
    "  df11[i].str.encode('utf-8')\n"
   ],
   "outputs": [],
   "metadata": {}
  },
  {
   "cell_type": "code",
   "execution_count": 6,
   "source": [
    "df11.info()\n"
   ],
   "outputs": [
    {
     "output_type": "stream",
     "name": "stdout",
     "text": [
      "<class 'pandas.core.frame.DataFrame'>\n",
      "RangeIndex: 244 entries, 0 to 243\n",
      "Data columns (total 9 columns):\n",
      " #   Column        Non-Null Count  Dtype  \n",
      "---  ------        --------------  -----  \n",
      " 0   Name          244 non-null    object \n",
      " 1   Gender        244 non-null    object \n",
      " 2   Age           244 non-null    int64  \n",
      " 3   Edu_Level     244 non-null    object \n",
      " 4   Constituency  244 non-null    object \n",
      " 5   Case_Status   244 non-null    int64  \n",
      " 6   Total_Assets  244 non-null    float64\n",
      " 7   Party         244 non-null    object \n",
      " 8   Winner        244 non-null    int64  \n",
      "dtypes: float64(1), int64(3), object(5)\n",
      "memory usage: 17.3+ KB\n"
     ]
    }
   ],
   "metadata": {}
  },
  {
   "cell_type": "markdown",
   "source": [
    "## 2016 Data"
   ],
   "metadata": {}
  },
  {
   "cell_type": "code",
   "execution_count": 7,
   "source": [
    "df16 = pd.read_csv(\n",
    "    'data/2016f.csv', encoding='mac_roman')\n",
    "df16.drop(df16.columns[[4, 11, 12, 13, 14]], axis=1, inplace=True)\n",
    "\n",
    "#MK Mohan age\n",
    "df16.replace('N /A', 61, inplace=True)\n",
    "\n",
    "df16.replace(['N/A', 'NA'], np.nan, inplace=True)\n",
    "\n",
    "df16.replace('ntk', 'NTK', inplace=True)\n",
    "df16.replace('RPI(A)', 'RPI', inplace=True)\n",
    "df16.replace('LP (S)', 'LP(S)', inplace=True)\n",
    "\n",
    "# df16['Party Id'].value_counts()\n",
    "\n",
    "df16['Case status'].replace(np.nan, 0, inplace=True)\n",
    "df16['Case status'].mask(df16['Case status'] != 0, 1, inplace=True)\n",
    "# df16['Case status'].value_counts()\n",
    "\n",
    "temp = df16['Education'][::]\n",
    "temp = temp.astype('str')\n",
    "temp = temp.str.strip()\n",
    "\n",
    "#School\n",
    "school = [i for i in temp if 'std' in i.lower() or 'th' in i.lower()]\n",
    "school = set(school)\n",
    "school = list(school)\n",
    "sc = ['SSLC', 'PUC', 'S.S.L.C', 'SSC', 'High school']\n",
    "sc2 = [j for i in sc for j in temp if i in j]\n",
    "sc2 = set(sc2)\n",
    "sc2 = list(sc2)\n",
    "sc2\n",
    "school.extend(sc2)\n",
    "temp.replace(school, 'School', inplace=True)\n",
    "\n",
    "# temp.replace('SSLC', 'School', inplace=True)\n",
    "\n",
    "# df16.head()\n",
    "#PHD\n",
    "phd = [i for i in temp if ('phd' in i.lower() or 'ph.d' in i.lower())]\n",
    "temp.replace(phd, 'PHD', inplace=True)\n",
    "phd\n",
    "\n",
    "#PG\n",
    "pg = [i for i in temp if 'mba' in i.lower() or 'iim' in i.lower()]\n",
    "temp.replace(pg, 'PG', inplace=True)\n",
    "\n",
    "#UG\n",
    "ug = [i for i in temp if i[0] == 'B']\n",
    "ug = set(ug)\n",
    "ug = list(ug)\n",
    "ug.extend(['MBBS', 'LLB', 'FCS, AICWA', 'CPLC', 'L.L.B.', 'U.G.,',\n",
    "           'L.L.B.,', 'Gramiya kalaimani degree', 'AMIE (Textile)', 'CPL (PILOT)'])\n",
    "temp.replace(ug, 'UG', inplace=True)\n",
    "pg = [i for i in temp if i[0] == 'M']\n",
    "pg = set(pg)\n",
    "pg = list(pg)\n",
    "temp.replace(pg, 'PG', inplace=True)\n",
    "\n",
    "#Diploma\n",
    "dip = [i for i in temp if i.lower()[0] == 'd']\n",
    "dip = set(dip)\n",
    "dip = list(dip)\n",
    "dip.extend(['Polytechnic', 'ITI'])\n",
    "temp.replace(dip, 'Diploma', inplace=True)\n",
    "temp.replace(['No', 'NaN', 'nan', 'NIL'], 'None', inplace=True)\n",
    "# temp.value_counts()\n",
    "\n",
    "df16['Literate Status'] = temp\n",
    "# df16['Literate Status'].value_counts()\n",
    "\n",
    "df16.rename(columns={'ÔªøName': 'Name', 'D.O.B/Age': 'Age', 'Consituency': 'Constituency', 'Case status': 'Case_Status',\n",
    "                     'Asset Declared': 'Total_Assets', 'Party Id': 'Party', 'Literate Status': 'Edu_Level'}, inplace=True)\n",
    "df16.drop(['Education', 'Movable Assets',\n",
    "           'Immovable Assets'], axis=1, inplace=True)\n",
    "\n",
    "cols = df16.columns.tolist()\n",
    "cols = cols[:3]+cols[-1:]+cols[3:8]\n",
    "df16 = df16[cols]\n",
    "\n",
    "df16['Total_Assets'].fillna(0, inplace=True)\n",
    "df16.replace('47 years ', 47, inplace=True)\n",
    "\n",
    "df16['Age'] = pd.to_numeric(df16['Age'])\n",
    "df16['Age'].fillna((df16['Age'].mean()), inplace=True)\n",
    "df16['Age'] = df16['Age'].astype('int')\n",
    "# df16['Total_Assets']=df16['Total_Assets'].astype('float')\n",
    "df16['Total_Assets'] = pd.to_numeric(df16['Total_Assets'])\n",
    "for i in ['Name', 'Gender', 'Edu_Level', 'Constituency', 'Party']:\n",
    "  df16[i].str.encode('utf-8')\n",
    "\n"
   ],
   "outputs": [],
   "metadata": {}
  },
  {
   "cell_type": "code",
   "execution_count": 8,
   "source": [
    "df16.info()\n"
   ],
   "outputs": [
    {
     "output_type": "stream",
     "name": "stdout",
     "text": [
      "<class 'pandas.core.frame.DataFrame'>\n",
      "RangeIndex: 352 entries, 0 to 351\n",
      "Data columns (total 9 columns):\n",
      " #   Column        Non-Null Count  Dtype  \n",
      "---  ------        --------------  -----  \n",
      " 0   Name          352 non-null    object \n",
      " 1   Gender        352 non-null    object \n",
      " 2   Age           352 non-null    int64  \n",
      " 3   Edu_Level     352 non-null    object \n",
      " 4   Constituency  352 non-null    object \n",
      " 5   Case_Status   352 non-null    object \n",
      " 6   Total_Assets  352 non-null    float64\n",
      " 7   Party         352 non-null    object \n",
      " 8   Winner        352 non-null    int64  \n",
      "dtypes: float64(1), int64(2), object(6)\n",
      "memory usage: 24.9+ KB\n"
     ]
    }
   ],
   "metadata": {}
  },
  {
   "cell_type": "markdown",
   "source": [
    "## 2021 Data"
   ],
   "metadata": {}
  },
  {
   "cell_type": "code",
   "execution_count": 9,
   "source": [
    "df21 = pd.read_csv(\n",
    "    'data/2021f.csv', encoding='mac_roman')\n",
    "df21.drop(df21.columns[[1, 4, 5, 9, 13, 14, 15, 16, 17]], axis=1, inplace=True)\n",
    "\n",
    "df21.replace(['N/A', 'NA', 'na', 'n/a'], np.nan, inplace=True)\n",
    "# df21.info()\n",
    "\n",
    "df21['Constituency'].unique()\n",
    "\n",
    "# df21['criminalstatus']\n",
    "df21['criminalstatus'].replace('No', 0, inplace=True)\n",
    "df21['criminalstatus'].mask(df21['criminalstatus'] != 0, 1, inplace=True)\n",
    "# df21['criminalstatus'].value_counts()\n",
    "\n",
    "df21.replace(['Schooling', 'Graduation', 'Post graduation', 'Illiterate'], [\n",
    "             'School', 'UG', 'PG', 'None'], inplace=True)\n",
    "# df21['Literate Status'].value_counts()\n",
    "\n",
    "one = df21['Party Id'][:]\n",
    "one = [''.join([c for c in s if c.isupper()]) for s in one]\n",
    "one = pd.Series(one)\n",
    "one.replace('I', 'IND', inplace=True)\n",
    "df21['Party Id'] = one\n",
    "# df21['Party Id'].value_counts()\n",
    "\n",
    "df21.rename(columns={'age': 'Age', 'criminalstatus': 'Case_Status', 'Total Asset Declared': 'Total_Assets',\n",
    "                     'Party Id': 'Party', 'Literate Status': 'Edu_Level'}, inplace=True)\n",
    "df21.drop(['Education', 'Movable Asset', 'Immovable Asset'],\n",
    "          axis=1, inplace=True)\n",
    "\n",
    "cols = ['Name',\n",
    "        'Gender',\n",
    "        'Age',\n",
    "        'Edu_Level',\n",
    "        'Constituency',\n",
    "        'Case_Status',\n",
    "        'Total_Assets',\n",
    "        'Party']\n",
    "df21 = df21[cols]\n",
    "\n",
    "\n",
    "df21['Age'] = df21['Age'].astype('int')\n",
    "df21['Total_Assets'] = df21['Total_Assets'].astype('float')\n",
    "for i in ['Name', 'Gender', 'Edu_Level', 'Constituency', 'Party']:\n",
    "  df21[i].str.encode('utf-8')\n",
    "  # df21[i]=df21[i].astype('str')\n",
    "\n"
   ],
   "outputs": [],
   "metadata": {}
  },
  {
   "cell_type": "code",
   "execution_count": 10,
   "source": [
    "df21.info()\n"
   ],
   "outputs": [
    {
     "output_type": "stream",
     "name": "stdout",
     "text": [
      "<class 'pandas.core.frame.DataFrame'>\n",
      "RangeIndex: 172 entries, 0 to 171\n",
      "Data columns (total 8 columns):\n",
      " #   Column        Non-Null Count  Dtype  \n",
      "---  ------        --------------  -----  \n",
      " 0   Name          172 non-null    object \n",
      " 1   Gender        172 non-null    object \n",
      " 2   Age           172 non-null    int64  \n",
      " 3   Edu_Level     172 non-null    object \n",
      " 4   Constituency  172 non-null    object \n",
      " 5   Case_Status   172 non-null    int64  \n",
      " 6   Total_Assets  172 non-null    float64\n",
      " 7   Party         172 non-null    object \n",
      "dtypes: float64(1), int64(2), object(5)\n",
      "memory usage: 10.9+ KB\n"
     ]
    }
   ],
   "metadata": {}
  },
  {
   "cell_type": "markdown",
   "source": [
    "## Further Pre Processing"
   ],
   "metadata": {}
  },
  {
   "cell_type": "code",
   "execution_count": 11,
   "source": [
    "df11['Year'] = 0\n",
    "df16['Year'] = 1\n",
    "df21['Year'] = 2\n"
   ],
   "outputs": [],
   "metadata": {}
  },
  {
   "cell_type": "code",
   "execution_count": 12,
   "source": [
    "for i, j, k in zip(sorted(df11.Constituency.unique()), sorted(df16.Constituency.unique()), sorted(df21.Constituency.unique())):\n",
    "  df11.Constituency.replace(i, k, inplace=True)\n",
    "  df16.Constituency.replace(j, k, inplace=True)\n"
   ],
   "outputs": [],
   "metadata": {}
  },
  {
   "cell_type": "code",
   "execution_count": 13,
   "source": [
    "from sklearn.preprocessing import OrdinalEncoder\n",
    "\n",
    "oe = OrdinalEncoder()\n",
    "\n",
    "oe.fit(df21[['Constituency']])\n",
    "\n",
    "df11.Constituency = oe.transform(df11[['Constituency']])\n",
    "df16.Constituency = oe.transform(df16[['Constituency']])\n",
    "df21.Constituency = oe.transform(df21[['Constituency']])\n",
    "\n",
    "df11.Constituency = df11.Constituency.astype('int')\n",
    "df16.Constituency = df16.Constituency.astype('int')\n",
    "df21.Constituency = df21.Constituency.astype('int')\n"
   ],
   "outputs": [],
   "metadata": {}
  },
  {
   "cell_type": "code",
   "execution_count": 14,
   "source": [
    "df16.Gender.unique()\n",
    "\n",
    "df16.replace('Male ', 'Male', inplace=True)\n",
    "df16.replace('male ', 'Male', inplace=True)\n",
    "df16.replace('male', 'Male', inplace=True)\n",
    "df16.replace('Female ', 'Female', inplace=True)\n",
    "df16.replace('Female  ', 'Female', inplace=True)\n",
    "df16.replace('Third gender ', 'Other', inplace=True)\n",
    "df21.replace('MAle', 'Male', inplace=True)\n",
    "\n",
    "df11.Gender = df11.Gender.map({'Female': 0, 'Male': 1, 'Other': 2})\n",
    "df16.Gender = df16.Gender.map({'Female': 0, 'Male': 1, 'Other': 2})\n",
    "df21.Gender = df21.Gender.map({'Female': 0, 'Male': 1, 'Other': 2})\n"
   ],
   "outputs": [],
   "metadata": {}
  },
  {
   "cell_type": "code",
   "execution_count": 15,
   "source": [
    "df11.Edu_Level = df11.Edu_Level.map(\n",
    "    {'None': 0, 'School': 1, 'Diploma': 2, 'UG': 3, 'PG': 4, 'PHD': 5})\n",
    "df16.Edu_Level = df16.Edu_Level.map(\n",
    "    {'None': 0, 'School': 1, 'Diploma': 2, 'UG': 3, 'PG': 4, 'PHD': 5})\n",
    "df21.Edu_Level = df21.Edu_Level.map(\n",
    "    {'None': 0, 'School': 1, 'Diploma': 2, 'UG': 3, 'PG': 4, 'PHD': 5})\n"
   ],
   "outputs": [],
   "metadata": {}
  },
  {
   "cell_type": "code",
   "execution_count": 16,
   "source": [
    "parties = ['AIADMK', 'DMK', 'PMK', 'BJP', 'INC', 'MNM', 'AMMK', 'DMDK']\n",
    "df11.Party = df11.Party.apply(\n",
    "    lambda x: parties.index(x) if x in parties else 8)\n",
    "df16.Party = df16.Party.apply(\n",
    "    lambda x: parties.index(x) if x in parties else 8)\n",
    "df21.Party = df21.Party.apply(\n",
    "    lambda x: parties.index(x) if x in parties else 8)\n"
   ],
   "outputs": [],
   "metadata": {}
  },
  {
   "cell_type": "code",
   "execution_count": 17,
   "source": [
    "df11.Total_Assets.replace(0, 1, inplace=True)\n",
    "df16.Total_Assets.replace(0, 1, inplace=True)\n",
    "df21.Total_Assets.replace(0, 1, inplace=True)\n",
    "\n",
    "df11.Total_Assets = np.log10(df11.Total_Assets).astype(int)\n",
    "df16.Total_Assets = np.log10(df16.Total_Assets).astype(int)\n",
    "df21.Total_Assets = np.log10(df21.Total_Assets).astype(int)\n"
   ],
   "outputs": [],
   "metadata": {}
  },
  {
   "cell_type": "markdown",
   "source": [
    "----\n",
    "----\n",
    "\n",
    "# Models"
   ],
   "metadata": {}
  },
  {
   "cell_type": "code",
   "execution_count": 18,
   "source": [
    "from sklearn.svm import SVC\n",
    "from sklearn.neighbors import KNeighborsClassifier\n",
    "from sklearn.calibration import CalibratedClassifierCV\n",
    "from sklearn.linear_model import LogisticRegression\n",
    "from sklearn.ensemble import RandomForestClassifier\n",
    "from sklearn.model_selection import cross_val_score\n",
    "from sklearn.naive_bayes import GaussianNB\n"
   ],
   "outputs": [],
   "metadata": {}
  },
  {
   "cell_type": "markdown",
   "source": [
    "## Combining 2011 and 2016 Data"
   ],
   "metadata": {}
  },
  {
   "cell_type": "code",
   "execution_count": 19,
   "source": [
    "frames = [df11, df16]\n",
    "df = pd.concat(frames)\n",
    "df.shape\n"
   ],
   "outputs": [
    {
     "output_type": "execute_result",
     "data": {
      "text/plain": [
       "(596, 10)"
      ]
     },
     "metadata": {},
     "execution_count": 19
    }
   ],
   "metadata": {}
  },
  {
   "cell_type": "code",
   "execution_count": 20,
   "source": [
    "X_train = df.drop(columns=['Name', 'Winner'])\n",
    "y_train = df['Winner']\n",
    "X_test = df21.drop(columns=['Name'])\n"
   ],
   "outputs": [],
   "metadata": {}
  },
  {
   "cell_type": "markdown",
   "source": [
    "### K-Fold Cross Validation"
   ],
   "metadata": {}
  },
  {
   "cell_type": "code",
   "execution_count": 21,
   "source": [
    "#K-Fold Cross Validation\n",
    "\n",
    "models = [\n",
    "    LogisticRegression(max_iter=1000),\n",
    "    SVC(),\n",
    "    KNeighborsClassifier(n_neighbors=3),\n",
    "    RandomForestClassifier(n_estimators=200, max_depth=3, random_state=0),\n",
    "    # GaussianNB()\n",
    "]\n",
    "\n",
    "CV = 5\n",
    "cv_df = pd.DataFrame(index=range(CV * len(models)))\n",
    "entries = []\n",
    "for model in models:\n",
    "    model_name = model.__class__.__name__\n",
    "    accuracies = cross_val_score(\n",
    "        model, X_train, y_train, scoring='accuracy', cv=CV)\n",
    "    for fold_idx, accuracy in enumerate(accuracies):\n",
    "        entries.append((model_name, fold_idx, accuracy))\n",
    "    print(\"Done: \" + model_name)\n",
    "\n",
    "cv_df = pd.DataFrame(entries, columns=['model_name', 'fold_idx', 'accuracy'])\n"
   ],
   "outputs": [
    {
     "output_type": "stream",
     "name": "stdout",
     "text": [
      "Done: LogisticRegression\n",
      "Done: SVC\n",
      "Done: KNeighborsClassifier\n",
      "Done: RandomForestClassifier\n"
     ]
    }
   ],
   "metadata": {}
  },
  {
   "cell_type": "code",
   "execution_count": 22,
   "source": [
    "import seaborn as sns\n",
    "import matplotlib.pyplot as plt\n",
    "\n",
    "sns.boxplot(x='model_name', y='accuracy', data=cv_df)\n",
    "sns.stripplot(x='model_name', y='accuracy', data=cv_df,\n",
    "              size=8, jitter=True, edgecolor=\"gray\", linewidth=2)\n",
    "plt.show()\n"
   ],
   "outputs": [
    {
     "output_type": "display_data",
     "data": {
      "image/png": "[encoded data removed]",
      "text/plain": [
       "<Figure size 432x288 with 1 Axes>"
      ]
     },
     "metadata": {
      "needs_background": "light"
     }
    }
   ],
   "metadata": {}
  },
  {
   "cell_type": "code",
   "execution_count": 23,
   "source": [
    "cv_df.groupby('model_name').accuracy.mean()"
   ],
   "outputs": [
    {
     "output_type": "execute_result",
     "data": {
      "text/plain": [
       "model_name\n",
       "KNeighborsClassifier      0.926176\n",
       "LogisticRegression        0.944650\n",
       "RandomForestClassifier    0.949678\n",
       "SVC                       0.947997\n",
       "Name: accuracy, dtype: float64"
      ]
     },
     "metadata": {},
     "execution_count": 23
    }
   ],
   "metadata": {}
  },
  {
   "cell_type": "markdown",
   "source": [
    "## Predicting 2021 Results using 2011 and 2016 Data\n",
    "### 1. Logistic Regression"
   ],
   "metadata": {}
  },
  {
   "cell_type": "code",
   "execution_count": 24,
   "source": [
    "model = LogisticRegression(max_iter=1000)\n",
    "clf = CalibratedClassifierCV(model)\n",
    "clf.fit(X_train, y_train)\n",
    "y_proba = clf.predict_proba(X_test)\n"
   ],
   "outputs": [],
   "metadata": {}
  },
  {
   "cell_type": "code",
   "execution_count": 25,
   "source": [
    "y_proba[:5]\n"
   ],
   "outputs": [
    {
     "output_type": "execute_result",
     "data": {
      "text/plain": [
       "array([[0.97917009, 0.02082991],\n",
       "       [0.87400343, 0.12599657],\n",
       "       [0.95989296, 0.04010704],\n",
       "       [0.98194149, 0.01805851],\n",
       "       [0.99148791, 0.00851209]])"
      ]
     },
     "metadata": {},
     "execution_count": 25
    }
   ],
   "metadata": {}
  },
  {
   "cell_type": "code",
   "execution_count": 26,
   "source": [
    "df_pr1 = df21.copy(deep=True)\n",
    "df_pr1['Prob'] = y_proba[:, 1]\n",
    "df_pr1.head()\n"
   ],
   "outputs": [
    {
     "output_type": "execute_result",
     "data": {
      "text/html": [
       "<div>\n",
       "<style scoped>\n",
       "    .dataframe tbody tr th:only-of-type {\n",
       "        vertical-align: middle;\n",
       "    }\n",
       "\n",
       "    .dataframe tbody tr th {\n",
       "        vertical-align: top;\n",
       "    }\n",
       "\n",
       "    .dataframe thead th {\n",
       "        text-align: right;\n",
       "    }\n",
       "</style>\n",
       "<table border=\"1\" class=\"dataframe\">\n",
       "  <thead>\n",
       "    <tr style=\"text-align: right;\">\n",
       "      <th></th>\n",
       "      <th>Name</th>\n",
       "      <th>Gender</th>\n",
       "      <th>Age</th>\n",
       "      <th>Edu_Level</th>\n",
       "      <th>Constituency</th>\n",
       "      <th>Case_Status</th>\n",
       "      <th>Total_Assets</th>\n",
       "      <th>Party</th>\n",
       "      <th>Year</th>\n",
       "      <th>Prob</th>\n",
       "    </tr>\n",
       "  </thead>\n",
       "  <tbody>\n",
       "    <tr>\n",
       "      <th>0</th>\n",
       "      <td>V. Ravikumar</td>\n",
       "      <td>1</td>\n",
       "      <td>49</td>\n",
       "      <td>4</td>\n",
       "      <td>0</td>\n",
       "      <td>0</td>\n",
       "      <td>7</td>\n",
       "      <td>8</td>\n",
       "      <td>2</td>\n",
       "      <td>0.020830</td>\n",
       "    </tr>\n",
       "    <tr>\n",
       "      <th>1</th>\n",
       "      <td>S. Gokula Indira</td>\n",
       "      <td>1</td>\n",
       "      <td>55</td>\n",
       "      <td>4</td>\n",
       "      <td>0</td>\n",
       "      <td>0</td>\n",
       "      <td>7</td>\n",
       "      <td>0</td>\n",
       "      <td>2</td>\n",
       "      <td>0.125997</td>\n",
       "    </tr>\n",
       "    <tr>\n",
       "      <th>2</th>\n",
       "      <td>K.N. Gunasekaran</td>\n",
       "      <td>1</td>\n",
       "      <td>61</td>\n",
       "      <td>1</td>\n",
       "      <td>0</td>\n",
       "      <td>0</td>\n",
       "      <td>7</td>\n",
       "      <td>6</td>\n",
       "      <td>2</td>\n",
       "      <td>0.040107</td>\n",
       "    </tr>\n",
       "    <tr>\n",
       "      <th>3</th>\n",
       "      <td>Ansar Ahmed</td>\n",
       "      <td>1</td>\n",
       "      <td>54</td>\n",
       "      <td>1</td>\n",
       "      <td>0</td>\n",
       "      <td>0</td>\n",
       "      <td>5</td>\n",
       "      <td>8</td>\n",
       "      <td>2</td>\n",
       "      <td>0.018059</td>\n",
       "    </tr>\n",
       "    <tr>\n",
       "      <th>4</th>\n",
       "      <td>M. Veriyandi</td>\n",
       "      <td>1</td>\n",
       "      <td>36</td>\n",
       "      <td>0</td>\n",
       "      <td>0</td>\n",
       "      <td>0</td>\n",
       "      <td>0</td>\n",
       "      <td>8</td>\n",
       "      <td>2</td>\n",
       "      <td>0.008512</td>\n",
       "    </tr>\n",
       "  </tbody>\n",
       "</table>\n",
       "</div>"
      ],
      "text/plain": [
       "               Name  Gender  Age  Edu_Level  Constituency  Case_Status  \\\n",
       "0      V. Ravikumar       1   49          4             0            0   \n",
       "1  S. Gokula Indira       1   55          4             0            0   \n",
       "2  K.N. Gunasekaran       1   61          1             0            0   \n",
       "3       Ansar Ahmed       1   54          1             0            0   \n",
       "4      M. Veriyandi       1   36          0             0            0   \n",
       "\n",
       "   Total_Assets  Party  Year      Prob  \n",
       "0             7      8     2  0.020830  \n",
       "1             7      0     2  0.125997  \n",
       "2             7      6     2  0.040107  \n",
       "3             5      8     2  0.018059  \n",
       "4             0      8     2  0.008512  "
      ]
     },
     "metadata": {},
     "execution_count": 26
    }
   ],
   "metadata": {}
  },
  {
   "cell_type": "code",
   "execution_count": 27,
   "source": [
    "df_pr1['Winner'] = 0\n"
   ],
   "outputs": [],
   "metadata": {}
  },
  {
   "cell_type": "code",
   "execution_count": 28,
   "source": [
    "max_pr1 = df_pr1.groupby(['Constituency'], sort=False)['Prob'].max()\n",
    "max_pr1\n"
   ],
   "outputs": [
    {
     "output_type": "execute_result",
     "data": {
      "text/plain": [
       "Constituency\n",
       "0     0.386052\n",
       "1     0.193393\n",
       "2     0.094216\n",
       "3     0.376381\n",
       "4     0.098887\n",
       "5     0.313223\n",
       "6     0.198190\n",
       "7     0.217246\n",
       "8     0.127352\n",
       "9     0.255365\n",
       "10    0.086762\n",
       "11    0.295726\n",
       "12    0.080404\n",
       "13    0.083887\n",
       "14    0.169381\n",
       "15    0.108268\n",
       "Name: Prob, dtype: float64"
      ]
     },
     "metadata": {},
     "execution_count": 28
    }
   ],
   "metadata": {}
  },
  {
   "cell_type": "code",
   "execution_count": 29,
   "source": [
    "i2 = []\n",
    "for c, p in enumerate(max_pr1):\n",
    "  i1 = df_pr1[df_pr1['Constituency'] == c].index.tolist()\n",
    "  for idx in i1:\n",
    "    if(df_pr1.loc[idx].Prob == p):\n",
    "      # print('Hello ', idx)\n",
    "      i2.append(idx)\n",
    "\n",
    "for i in i2:\n",
    "  df_pr1['Winner'][i] = 1\n"
   ],
   "outputs": [
    {
     "output_type": "stream",
     "name": "stderr",
     "text": [
      "<ipython-input-29-0a0d758633e9>:10: SettingWithCopyWarning: \n",
      "A value is trying to be set on a copy of a slice from a DataFrame\n",
      "\n",
      "See the caveats in the documentation: https://pandas.pydata.org/pandas-docs/stable/user_guide/indexing.html#returning-a-view-versus-a-copy\n",
      "  df_pr1['Winner'][i] = 1\n"
     ]
    }
   ],
   "metadata": {}
  },
  {
   "cell_type": "markdown",
   "source": [
    "#### Winners Predicted"
   ],
   "metadata": {}
  },
  {
   "cell_type": "code",
   "execution_count": 30,
   "source": [
    "from tabulate import tabulate\n",
    "\n",
    "df_pr1['Name2'] = df21['Name']\n",
    "cons = ['Anna Nagar', 'Chepauk-Thiruvallikeni ', 'Dr.Radhakrishnan Nagar',\n",
    "        'Egmore', 'Harbour', 'Kolathur', 'Mylapore', 'Perambur',\n",
    "        'Royapuram', 'Saidapet', 'Thiru-Vi-Ka-Nagar', 'Thiyagarayanagar',\n",
    "        'Thousand Lights', 'Velachery', 'Villivakkam', 'Virugampakkam']\n",
    "table = []\n",
    "for idx, i in enumerate(i2):\n",
    "  table.append([df_pr1['Name2'][i], cons[idx]])\n",
    "\n",
    "print(tabulate(table, headers=['Predicted Winner', 'Constituency']))\n"
   ],
   "outputs": [
    {
     "output_type": "stream",
     "name": "stdout",
     "text": [
      "Predicted Winner                Constituency\n",
      "------------------------------  ----------------------\n",
      "M.K. Mohan                      Anna Nagar\n",
      "S.Udhayanidhi                   Chepauk-Thiruvallikeni\n",
      "R.S.Rajesh                      Dr.Radhakrishnan Nagar\n",
      "B.John Pandian                  Egmore\n",
      "P.K.Sekar Babu                  Harbour\n",
      "M.K.Stalin                      Kolathur\n",
      "R.Nataraj                       Mylapore\n",
      "R.D.Sekar                       Perambur\n",
      "D.Jayakumar                     Royapuram\n",
      "M.A.Subramanian                 Saidapet\n",
      "P.Sivakumar Alias Thayagamkavi  Thiru-Vi-Ka-Nagar\n",
      "B.Sathiyanaarayanan             Thiyagarayanagar\n",
      "K.M.Shariff                     Thousand Lights\n",
      "M.K.Ashok                       Velachery\n",
      "J.C.D.Prabhakar                 Villivakkam\n",
      "V.N. Ravi                       Virugampakkam\n"
     ]
    }
   ],
   "metadata": {}
  },
  {
   "cell_type": "markdown",
   "source": [
    "### 2. KNN"
   ],
   "metadata": {}
  },
  {
   "cell_type": "code",
   "execution_count": 31,
   "source": [
    "model = KNeighborsClassifier(n_neighbors=3)\n",
    "clf = CalibratedClassifierCV(model)\n",
    "clf.fit(X_train, y_train)\n",
    "y_proba = clf.predict_proba(X_test)\n"
   ],
   "outputs": [],
   "metadata": {}
  },
  {
   "cell_type": "code",
   "execution_count": 32,
   "source": [
    "y_proba[:5]\n"
   ],
   "outputs": [
    {
     "output_type": "execute_result",
     "data": {
      "text/plain": [
       "array([[0.92108134, 0.07891866],\n",
       "       [0.86602127, 0.13397873],\n",
       "       [0.95607226, 0.04392774],\n",
       "       [0.95607226, 0.04392774],\n",
       "       [0.95607226, 0.04392774]])"
      ]
     },
     "metadata": {},
     "execution_count": 32
    }
   ],
   "metadata": {}
  },
  {
   "cell_type": "code",
   "execution_count": 33,
   "source": [
    "df_pr2 = df21.copy(deep=True)\n",
    "df_pr2['Prob'] = y_proba[:, 1]\n",
    "df_pr2.head()\n"
   ],
   "outputs": [
    {
     "output_type": "execute_result",
     "data": {
      "text/html": [
       "<div>\n",
       "<style scoped>\n",
       "    .dataframe tbody tr th:only-of-type {\n",
       "        vertical-align: middle;\n",
       "    }\n",
       "\n",
       "    .dataframe tbody tr th {\n",
       "        vertical-align: top;\n",
       "    }\n",
       "\n",
       "    .dataframe thead th {\n",
       "        text-align: right;\n",
       "    }\n",
       "</style>\n",
       "<table border=\"1\" class=\"dataframe\">\n",
       "  <thead>\n",
       "    <tr style=\"text-align: right;\">\n",
       "      <th></th>\n",
       "      <th>Name</th>\n",
       "      <th>Gender</th>\n",
       "      <th>Age</th>\n",
       "      <th>Edu_Level</th>\n",
       "      <th>Constituency</th>\n",
       "      <th>Case_Status</th>\n",
       "      <th>Total_Assets</th>\n",
       "      <th>Party</th>\n",
       "      <th>Year</th>\n",
       "      <th>Prob</th>\n",
       "    </tr>\n",
       "  </thead>\n",
       "  <tbody>\n",
       "    <tr>\n",
       "      <th>0</th>\n",
       "      <td>V. Ravikumar</td>\n",
       "      <td>1</td>\n",
       "      <td>49</td>\n",
       "      <td>4</td>\n",
       "      <td>0</td>\n",
       "      <td>0</td>\n",
       "      <td>7</td>\n",
       "      <td>8</td>\n",
       "      <td>2</td>\n",
       "      <td>0.078919</td>\n",
       "    </tr>\n",
       "    <tr>\n",
       "      <th>1</th>\n",
       "      <td>S. Gokula Indira</td>\n",
       "      <td>1</td>\n",
       "      <td>55</td>\n",
       "      <td>4</td>\n",
       "      <td>0</td>\n",
       "      <td>0</td>\n",
       "      <td>7</td>\n",
       "      <td>0</td>\n",
       "      <td>2</td>\n",
       "      <td>0.133979</td>\n",
       "    </tr>\n",
       "    <tr>\n",
       "      <th>2</th>\n",
       "      <td>K.N. Gunasekaran</td>\n",
       "      <td>1</td>\n",
       "      <td>61</td>\n",
       "      <td>1</td>\n",
       "      <td>0</td>\n",
       "      <td>0</td>\n",
       "      <td>7</td>\n",
       "      <td>6</td>\n",
       "      <td>2</td>\n",
       "      <td>0.043928</td>\n",
       "    </tr>\n",
       "    <tr>\n",
       "      <th>3</th>\n",
       "      <td>Ansar Ahmed</td>\n",
       "      <td>1</td>\n",
       "      <td>54</td>\n",
       "      <td>1</td>\n",
       "      <td>0</td>\n",
       "      <td>0</td>\n",
       "      <td>5</td>\n",
       "      <td>8</td>\n",
       "      <td>2</td>\n",
       "      <td>0.043928</td>\n",
       "    </tr>\n",
       "    <tr>\n",
       "      <th>4</th>\n",
       "      <td>M. Veriyandi</td>\n",
       "      <td>1</td>\n",
       "      <td>36</td>\n",
       "      <td>0</td>\n",
       "      <td>0</td>\n",
       "      <td>0</td>\n",
       "      <td>0</td>\n",
       "      <td>8</td>\n",
       "      <td>2</td>\n",
       "      <td>0.043928</td>\n",
       "    </tr>\n",
       "  </tbody>\n",
       "</table>\n",
       "</div>"
      ],
      "text/plain": [
       "               Name  Gender  Age  Edu_Level  Constituency  Case_Status  \\\n",
       "0      V. Ravikumar       1   49          4             0            0   \n",
       "1  S. Gokula Indira       1   55          4             0            0   \n",
       "2  K.N. Gunasekaran       1   61          1             0            0   \n",
       "3       Ansar Ahmed       1   54          1             0            0   \n",
       "4      M. Veriyandi       1   36          0             0            0   \n",
       "\n",
       "   Total_Assets  Party  Year      Prob  \n",
       "0             7      8     2  0.078919  \n",
       "1             7      0     2  0.133979  \n",
       "2             7      6     2  0.043928  \n",
       "3             5      8     2  0.043928  \n",
       "4             0      8     2  0.043928  "
      ]
     },
     "metadata": {},
     "execution_count": 33
    }
   ],
   "metadata": {}
  },
  {
   "cell_type": "code",
   "execution_count": 34,
   "source": [
    "df_pr2['Winner'] = 0\n",
    "max_pr2 = df_pr2.groupby(['Constituency'], sort=False)['Prob'].max()\n",
    "max_pr2\n"
   ],
   "outputs": [
    {
     "output_type": "execute_result",
     "data": {
      "text/plain": [
       "Constituency\n",
       "0     0.133979\n",
       "1     0.106241\n",
       "2     0.065211\n",
       "3     0.102640\n",
       "4     0.072639\n",
       "5     0.114103\n",
       "6     0.065211\n",
       "7     0.193635\n",
       "8     0.141232\n",
       "9     0.075986\n",
       "10    0.198870\n",
       "11    0.136747\n",
       "12    0.070967\n",
       "13    0.070967\n",
       "14    0.073939\n",
       "15    0.078424\n",
       "Name: Prob, dtype: float64"
      ]
     },
     "metadata": {},
     "execution_count": 34
    }
   ],
   "metadata": {}
  },
  {
   "cell_type": "code",
   "execution_count": 35,
   "source": [
    "i2 = []\n",
    "for c, p in enumerate(max_pr2):\n",
    "  i1 = df_pr2[df_pr2['Constituency'] == c].index.tolist()\n",
    "  done=False\n",
    "  for idx in i1:\n",
    "    if(df_pr2.loc[idx].Prob == p and not done):\n",
    "      # print('Hello ', idx)\n",
    "      i2.append(idx)\n",
    "      done=True\n",
    "\n",
    "for i in i2:\n",
    "  df_pr2['Winner'][i] = 1"
   ],
   "outputs": [
    {
     "output_type": "stream",
     "name": "stderr",
     "text": [
      "<ipython-input-35-273c7839be07>:12: SettingWithCopyWarning: \n",
      "A value is trying to be set on a copy of a slice from a DataFrame\n",
      "\n",
      "See the caveats in the documentation: https://pandas.pydata.org/pandas-docs/stable/user_guide/indexing.html#returning-a-view-versus-a-copy\n",
      "  df_pr2['Winner'][i] = 1\n"
     ]
    }
   ],
   "metadata": {}
  },
  {
   "cell_type": "code",
   "execution_count": 36,
   "source": [
    "df_pr2['Name2'] = df21['Name']\n",
    "table2 = []\n",
    "for idx, i in enumerate(i2):\n",
    "  table2.append([df_pr2['Name2'][i], cons[idx]])\n",
    "\n",
    "print(tabulate(table2, headers=['Predicted Winner', 'Constituency']))\n"
   ],
   "outputs": [
    {
     "output_type": "stream",
     "name": "stdout",
     "text": [
      "Predicted Winner                Constituency\n",
      "------------------------------  ----------------------\n",
      "S. Gokula Indira                Anna Nagar\n",
      "S.Udhayanidhi                   Chepauk-Thiruvallikeni\n",
      "R.S.Rajesh                      Dr.Radhakrishnan Nagar\n",
      "B.John Pandian                  Egmore\n",
      "P.K.Sekar Babu                  Harbour\n",
      "Aadi Rajaram                    Kolathur\n",
      "R.Nataraj                       Mylapore\n",
      "R.D.Sekar                       Perambur\n",
      "R.Murthy                        Royapuram\n",
      "M.A.Subramanian                 Saidapet\n",
      "P.Sivakumar Alias Thayagamkavi  Thiru-Vi-Ka-Nagar\n",
      "J.Karunanithi                   Thiyagarayanagar\n",
      "N.Vaidhyanathan                 Thousand Lights\n",
      "V.L.Revathi Jayakumari          Velachery\n",
      "J.C.D.Prabhakar                 Villivakkam\n",
      "V.N. Ravi                       Virugampakkam\n"
     ]
    }
   ],
   "metadata": {}
  },
  {
   "cell_type": "markdown",
   "source": [
    "### 3. Naive Bayes"
   ],
   "metadata": {}
  },
  {
   "cell_type": "code",
   "execution_count": 37,
   "source": [
    "df11.sort_values(by=['Constituency'])\n",
    "df16.sort_values(by=['Constituency'])\n",
    "df21.sort_values(by=['Constituency'])\n"
   ],
   "outputs": [
    {
     "output_type": "execute_result",
     "data": {
      "text/html": [
       "<div>\n",
       "<style scoped>\n",
       "    .dataframe tbody tr th:only-of-type {\n",
       "        vertical-align: middle;\n",
       "    }\n",
       "\n",
       "    .dataframe tbody tr th {\n",
       "        vertical-align: top;\n",
       "    }\n",
       "\n",
       "    .dataframe thead th {\n",
       "        text-align: right;\n",
       "    }\n",
       "</style>\n",
       "<table border=\"1\" class=\"dataframe\">\n",
       "  <thead>\n",
       "    <tr style=\"text-align: right;\">\n",
       "      <th></th>\n",
       "      <th>Name</th>\n",
       "      <th>Gender</th>\n",
       "      <th>Age</th>\n",
       "      <th>Edu_Level</th>\n",
       "      <th>Constituency</th>\n",
       "      <th>Case_Status</th>\n",
       "      <th>Total_Assets</th>\n",
       "      <th>Party</th>\n",
       "      <th>Year</th>\n",
       "    </tr>\n",
       "  </thead>\n",
       "  <tbody>\n",
       "    <tr>\n",
       "      <th>0</th>\n",
       "      <td>V. Ravikumar</td>\n",
       "      <td>1</td>\n",
       "      <td>49</td>\n",
       "      <td>4</td>\n",
       "      <td>0</td>\n",
       "      <td>0</td>\n",
       "      <td>7</td>\n",
       "      <td>8</td>\n",
       "      <td>2</td>\n",
       "    </tr>\n",
       "    <tr>\n",
       "      <th>13</th>\n",
       "      <td>S. Yuvaraja</td>\n",
       "      <td>1</td>\n",
       "      <td>48</td>\n",
       "      <td>1</td>\n",
       "      <td>0</td>\n",
       "      <td>0</td>\n",
       "      <td>5</td>\n",
       "      <td>8</td>\n",
       "      <td>2</td>\n",
       "    </tr>\n",
       "    <tr>\n",
       "      <th>12</th>\n",
       "      <td>S.D. Prabhakar</td>\n",
       "      <td>1</td>\n",
       "      <td>41</td>\n",
       "      <td>3</td>\n",
       "      <td>0</td>\n",
       "      <td>0</td>\n",
       "      <td>0</td>\n",
       "      <td>8</td>\n",
       "      <td>2</td>\n",
       "    </tr>\n",
       "    <tr>\n",
       "      <th>11</th>\n",
       "      <td>V. Paulraj Guna</td>\n",
       "      <td>1</td>\n",
       "      <td>48</td>\n",
       "      <td>1</td>\n",
       "      <td>0</td>\n",
       "      <td>0</td>\n",
       "      <td>5</td>\n",
       "      <td>8</td>\n",
       "      <td>2</td>\n",
       "    </tr>\n",
       "    <tr>\n",
       "      <th>10</th>\n",
       "      <td>J. Nagaraj</td>\n",
       "      <td>1</td>\n",
       "      <td>42</td>\n",
       "      <td>2</td>\n",
       "      <td>0</td>\n",
       "      <td>0</td>\n",
       "      <td>6</td>\n",
       "      <td>8</td>\n",
       "      <td>2</td>\n",
       "    </tr>\n",
       "    <tr>\n",
       "      <th>...</th>\n",
       "      <td>...</td>\n",
       "      <td>...</td>\n",
       "      <td>...</td>\n",
       "      <td>...</td>\n",
       "      <td>...</td>\n",
       "      <td>...</td>\n",
       "      <td>...</td>\n",
       "      <td>...</td>\n",
       "      <td>...</td>\n",
       "    </tr>\n",
       "    <tr>\n",
       "      <th>166</th>\n",
       "      <td>A.M.V.Prabhakara Raja</td>\n",
       "      <td>1</td>\n",
       "      <td>32</td>\n",
       "      <td>4</td>\n",
       "      <td>15</td>\n",
       "      <td>0</td>\n",
       "      <td>7</td>\n",
       "      <td>1</td>\n",
       "      <td>2</td>\n",
       "    </tr>\n",
       "    <tr>\n",
       "      <th>167</th>\n",
       "      <td>S. Snekan</td>\n",
       "      <td>1</td>\n",
       "      <td>48</td>\n",
       "      <td>1</td>\n",
       "      <td>15</td>\n",
       "      <td>0</td>\n",
       "      <td>7</td>\n",
       "      <td>5</td>\n",
       "      <td>2</td>\n",
       "    </tr>\n",
       "    <tr>\n",
       "      <th>168</th>\n",
       "      <td>T.S.Rajendran</td>\n",
       "      <td>1</td>\n",
       "      <td>57</td>\n",
       "      <td>1</td>\n",
       "      <td>15</td>\n",
       "      <td>0</td>\n",
       "      <td>6</td>\n",
       "      <td>8</td>\n",
       "      <td>2</td>\n",
       "    </tr>\n",
       "    <tr>\n",
       "      <th>169</th>\n",
       "      <td>G.Ravi</td>\n",
       "      <td>1</td>\n",
       "      <td>36</td>\n",
       "      <td>1</td>\n",
       "      <td>15</td>\n",
       "      <td>0</td>\n",
       "      <td>0</td>\n",
       "      <td>8</td>\n",
       "      <td>2</td>\n",
       "    </tr>\n",
       "    <tr>\n",
       "      <th>171</th>\n",
       "      <td>G.Thanigachalam</td>\n",
       "      <td>1</td>\n",
       "      <td>42</td>\n",
       "      <td>1</td>\n",
       "      <td>15</td>\n",
       "      <td>0</td>\n",
       "      <td>6</td>\n",
       "      <td>8</td>\n",
       "      <td>2</td>\n",
       "    </tr>\n",
       "  </tbody>\n",
       "</table>\n",
       "<p>172 rows × 9 columns</p>\n",
       "</div>"
      ],
      "text/plain": [
       "                      Name  Gender  Age  Edu_Level  Constituency  Case_Status  \\\n",
       "0             V. Ravikumar       1   49          4             0            0   \n",
       "13             S. Yuvaraja       1   48          1             0            0   \n",
       "12          S.D. Prabhakar       1   41          3             0            0   \n",
       "11         V. Paulraj Guna       1   48          1             0            0   \n",
       "10              J. Nagaraj       1   42          2             0            0   \n",
       "..                     ...     ...  ...        ...           ...          ...   \n",
       "166  A.M.V.Prabhakara Raja       1   32          4            15            0   \n",
       "167              S. Snekan       1   48          1            15            0   \n",
       "168          T.S.Rajendran       1   57          1            15            0   \n",
       "169                 G.Ravi       1   36          1            15            0   \n",
       "171        G.Thanigachalam       1   42          1            15            0   \n",
       "\n",
       "     Total_Assets  Party  Year  \n",
       "0               7      8     2  \n",
       "13              5      8     2  \n",
       "12              0      8     2  \n",
       "11              5      8     2  \n",
       "10              6      8     2  \n",
       "..            ...    ...   ...  \n",
       "166             7      1     2  \n",
       "167             7      5     2  \n",
       "168             6      8     2  \n",
       "169             0      8     2  \n",
       "171             6      8     2  \n",
       "\n",
       "[172 rows x 9 columns]"
      ]
     },
     "metadata": {},
     "execution_count": 37
    }
   ],
   "metadata": {}
  },
  {
   "cell_type": "code",
   "execution_count": 38,
   "source": [
    "from sklearn.naive_bayes import CategoricalNB"
   ],
   "outputs": [],
   "metadata": {}
  },
  {
   "cell_type": "code",
   "execution_count": 39,
   "source": [
    "df11['Year'] = 0\n",
    "df16['Year'] = 1\n",
    "df21['Year'] = 2\n",
    "\n",
    "model = CategoricalNB(min_categories=[3, 7, 6, 16, 2, 10, 9, 3])\n",
    "\n",
    "x11 = df11.drop(columns=['Name', 'Winner'])\n",
    "y11 = df11['Winner']\n",
    "\n",
    "x11.head()\n",
    "\n",
    "model.partial_fit(x11, y11, classes=[0, 1])\n",
    "\n",
    "x16 = df16.drop(columns=['Name', 'Winner'])\n",
    "y16 = df16['Winner']\n",
    "\n",
    "model.partial_fit(x16, y16)\n",
    "\n",
    "x21 = df21.drop(columns=['Name'])\n",
    "# y21 = df21['Winner']\n",
    "\n",
    "pred = model.predict(x21)\n",
    "\n",
    "a, b = np.asarray([]), np.asarray([])\n",
    "for i in range(16):\n",
    "  test_x = df21.loc[df21['Constituency'] == i][['Gender', 'Age', 'Edu_Level',\n",
    "                                                'Constituency', 'Case_Status', 'Total_Assets', 'Party', 'Year']]\n",
    "  # test_y = df21.loc[df21['Constituency']==i]['Winner']\n",
    "  # a = np.append(a, test_y)\n",
    "  test_pred = model.predict_proba(test_x)\n",
    "  # print(max(test_pred[:,1]))\n",
    "  # print(sum(test_pred[:,1]==max(test_pred[:,1])))\n",
    "  b = np.append(b, test_pred[:, 1] == max(test_pred[:, 1]))\n"
   ],
   "outputs": [],
   "metadata": {}
  },
  {
   "cell_type": "code",
   "execution_count": 40,
   "source": [
    "tdf21 = df21.copy(deep=True)\n",
    "tdf21['PrWinner'] = b\n",
    "tdf21['Party'] = tdf21.Party.apply(lambda x: parties[x] if x < 8 else 'OTH')\n",
    "tdf21['Constituency'] = oe.inverse_transform(\n",
    "    np.asarray(tdf21['Constituency']).reshape(-1, 1))\n"
   ],
   "outputs": [],
   "metadata": {}
  },
  {
   "cell_type": "code",
   "execution_count": 41,
   "source": [
    "tmp3 = tdf21[tdf21['PrWinner'] == 1][['Name', 'Constituency']]\n",
    "table3 = tmp3.values.tolist()\n"
   ],
   "outputs": [],
   "metadata": {}
  },
  {
   "cell_type": "code",
   "execution_count": 42,
   "source": [
    "print(tabulate(table3, headers=['Predicted Winner', 'Constituency']))\n"
   ],
   "outputs": [
    {
     "output_type": "stream",
     "name": "stdout",
     "text": [
      "Predicted Winner                Constituency\n",
      "------------------------------  ----------------------\n",
      "M.K. Mohan                      Anna Nagar\n",
      "S.Udhayanidhi                   Chepauk-Thiruvallikeni\n",
      "P.Kalidas                       Dr.Radhakrishnan Nagar\n",
      "B.John Pandian                  Egmore\n",
      "P.Santhana Krishnan             Harbour\n",
      "M.K.Stalin                      Kolathur\n",
      "R.Nataraj                       Mylapore\n",
      "R.D.Sekar                       Perambur\n",
      "C.Ramajayam                     Royapuram\n",
      "M.A.Subramanian                 Saidapet\n",
      "P.Sivakumar Alias Thayagamkavi  Thiru-Vi-Ka-Nagar\n",
      "B.Sathiyanaarayanan             Thiyagarayanagar\n",
      "K.M.Shariff                     Thousand Lights\n",
      "Santhosh Babu                   Velachery\n",
      "J.C.D.Prabhakar                 Villivakkam\n",
      "B.Parthasarathy                 Virugampakkam\n"
     ]
    }
   ],
   "metadata": {}
  },
  {
   "cell_type": "markdown",
   "source": [
    "# Comparison of Results"
   ],
   "metadata": {}
  },
  {
   "cell_type": "code",
   "execution_count": 43,
   "source": [
    "winnersList = ['M.K. Mohan','S.Udhayanidhi','J.John Ebenezer','I. Paranthamen','P.K.Sekar Babu','M.K.Stalin',\n",
    "\t\t\t\t'T.Velu','R.D.Sekar','R.Murthy','M.A.Subramanian','P.Sivakumar Alias Thayagamkavi','J.Karunanithi',\n",
    "\t\t\t\t'N.Ezhilan','Jmh.Aassan Maulaana','A.Vetriazhagan','A.M.V.Prabhakara Raja']\n",
    "\n",
    "len(winnersList)"
   ],
   "outputs": [
    {
     "output_type": "execute_result",
     "data": {
      "text/plain": [
       "16"
      ]
     },
     "metadata": {},
     "execution_count": 43
    }
   ],
   "metadata": {}
  },
  {
   "cell_type": "code",
   "execution_count": 44,
   "source": [
    "comp = []\n",
    "for i, c in enumerate(cons):\n",
    "  comp.append([c, winnersList[i], table[i][0], table2[i][0], table3[i][0]])\n",
    "\n",
    "print('2021 TN Elections - Chennai')\n",
    "print(tabulate(comp, headers=['Constituency', 'Winner',\n",
    "                              'LR Prediction', 'KNN Prediction', 'Naive Bayes Prediction']))\n"
   ],
   "outputs": [
    {
     "output_type": "stream",
     "name": "stdout",
     "text": [
      "2021 TN Elections - Chennai\n",
      "Constituency            Winner                          LR Prediction                   KNN Prediction                  Naive Bayes Prediction\n",
      "----------------------  ------------------------------  ------------------------------  ------------------------------  ------------------------------\n",
      "Anna Nagar              M.K. Mohan                      M.K. Mohan                      S. Gokula Indira                M.K. Mohan\n",
      "Chepauk-Thiruvallikeni  S.Udhayanidhi                   S.Udhayanidhi                   S.Udhayanidhi                   S.Udhayanidhi\n",
      "Dr.Radhakrishnan Nagar  J.John Ebenezer                 R.S.Rajesh                      R.S.Rajesh                      P.Kalidas\n",
      "Egmore                  I. Paranthamen                  B.John Pandian                  B.John Pandian                  B.John Pandian\n",
      "Harbour                 P.K.Sekar Babu                  P.K.Sekar Babu                  P.K.Sekar Babu                  P.Santhana Krishnan\n",
      "Kolathur                M.K.Stalin                      M.K.Stalin                      Aadi Rajaram                    M.K.Stalin\n",
      "Mylapore                T.Velu                          R.Nataraj                       R.Nataraj                       R.Nataraj\n",
      "Perambur                R.D.Sekar                       R.D.Sekar                       R.D.Sekar                       R.D.Sekar\n",
      "Royapuram               R.Murthy                        D.Jayakumar                     R.Murthy                        C.Ramajayam\n",
      "Saidapet                M.A.Subramanian                 M.A.Subramanian                 M.A.Subramanian                 M.A.Subramanian\n",
      "Thiru-Vi-Ka-Nagar       P.Sivakumar Alias Thayagamkavi  P.Sivakumar Alias Thayagamkavi  P.Sivakumar Alias Thayagamkavi  P.Sivakumar Alias Thayagamkavi\n",
      "Thiyagarayanagar        J.Karunanithi                   B.Sathiyanaarayanan             J.Karunanithi                   B.Sathiyanaarayanan\n",
      "Thousand Lights         N.Ezhilan                       K.M.Shariff                     N.Vaidhyanathan                 K.M.Shariff\n",
      "Velachery               Jmh.Aassan Maulaana             M.K.Ashok                       V.L.Revathi Jayakumari          Santhosh Babu\n",
      "Villivakkam             A.Vetriazhagan                  J.C.D.Prabhakar                 J.C.D.Prabhakar                 J.C.D.Prabhakar\n",
      "Virugampakkam           A.M.V.Prabhakara Raja           V.N. Ravi                       V.N. Ravi                       B.Parthasarathy\n"
     ]
    }
   ],
   "metadata": {}
  },
  {
   "cell_type": "code",
   "execution_count": 45,
   "source": [
    "models = ['Logistic Regression','K Nearest Neighbours','Naive Bayes']\n",
    "model_correct_ct =[0,0,0]\n",
    "model_accuracy = [0,0,0]\n",
    "\n",
    "for i in range(16):\n",
    "\tif winnersList[i]==table[i][0]:\n",
    "\t\tmodel_correct_ct[0] += 1\n",
    "\tif winnersList[i]==table2[i][0]:\n",
    "\t\tmodel_correct_ct[1] += 1\n",
    "\tif winnersList[i]==table3[i][0]:\n",
    "\t\tmodel_correct_ct[2] += 1\n",
    "\n",
    "\n",
    "\n",
    "resultsTable = []\n",
    "\n",
    "for i in range(3):\n",
    "\tmodel_accuracy[i] = 100 * model_correct_ct[i] / 16.0\n",
    "\tresultsTable.append([models[i],model_correct_ct[i],model_accuracy[i]])\n",
    "\n",
    "print('2021 TN Elections - Chennai')\n",
    "print(tabulate(resultsTable, headers=['Model/Method', '# Correct Predictions ','% Accuracy']))\n"
   ],
   "outputs": [
    {
     "output_type": "stream",
     "name": "stdout",
     "text": [
      "2021 TN Elections - Chennai\n",
      "Model/Method            # Correct Predictions     % Accuracy\n",
      "--------------------  ------------------------  ------------\n",
      "Logistic Regression                          7         43.75\n",
      "K Nearest Neighbours                         7         43.75\n",
      "Naive Bayes                                  6         37.5\n"
     ]
    }
   ],
   "metadata": {}
  }
 ],
 "metadata": {
  "orig_nbformat": 4,
  "language_info": {
   "name": "python",
   "version": "3.8.6",
   "mimetype": "text/x-python",
   "codemirror_mode": {
    "name": "ipython",
    "version": 3
   },
   "pygments_lexer": "ipython3",
   "nbconvert_exporter": "python",
   "file_extension": ".py"
  },
  "kernelspec": {
   "name": "python3",
   "display_name": "Python 3.8.6 64-bit"
  },
  "interpreter": {
   "hash": "aee8b7b246df8f9039afb4144a1f6fd8d2ca17a180786b69acc140d282b71a49"
  }
 },
 "nbformat": 4,
 "nbformat_minor": 2
}